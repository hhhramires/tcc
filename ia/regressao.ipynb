{
 "cells": [
  {
   "cell_type": "code",
   "execution_count": 43,
   "metadata": {},
   "source": [
    "import pandas as pd\n",
    "from sklearn.linear_model import LinearRegression\n",
    "from sklearn.metrics import mean_squared_error, r2_score\n",
    "import matplotlib.pyplot as plt"
   ],
   "outputs": []
  },
  {
   "cell_type": "code",
   "execution_count": 44,
   "metadata": {},
   "source": [
    "# Carregando os dados\n",
    "train_df = pd.read_csv('dataset/separado/train.csv', sep=';')\n",
    "test_df = pd.read_csv('dataset/separado/test.csv', sep=';')"
   ],
   "outputs": []
  },
  {
   "cell_type": "code",
   "execution_count": 54,
   "metadata": {},
   "source": [
    "# Plotando o gráfico comparativo\n",
    "plt.figure(figsize=(10, 6))\n",
    "plt.plot(train_df.values, label='Valor Real', marker='o')\n",
    "plt.title('Comparação entre Valor Real e Valor Previsto')\n",
    "plt.xlabel('Semana do ano')\n",
    "plt.ylabel('Valor')\n",
    "#plt.legend()\n",
    "plt.grid(True)\n",
    "plt.show()"
   ],
   "outputs": []
  },
  {
   "cell_type": "code",
   "execution_count": 45,
   "metadata": {},
   "source": [
    "# Separando as features (X) e o target (y)\n",
    "X_train = train_df[['week_of_month', 'month']]\n",
    "y_train = train_df['value']\n",
    "\n",
    "X_test = test_df[['week_of_month', 'month']]\n",
    "y_test = test_df['value']"
   ],
   "outputs": []
  },
  {
   "cell_type": "code",
   "execution_count": 46,
   "metadata": {},
   "source": [
    "# Criando o modelo de regressão linear\n",
    "model = LinearRegression()\n",
    "\n",
    "# Treinando o modelo\n",
    "model.fit(X_train, y_train)\n",
    "\n",
    "# Fazendo previsões no conjunto de teste\n",
    "y_pred = model.predict(X_test)\n",
    "\n",
    "# Calculando o erro quadrático médio\n",
    "mse = mean_squared_error(y_test, y_pred)\n",
    "r2 = r2_score(y_test, y_test)\n",
    "\n",
    "print(f\"Erro Quadrático Médio: {mse}\")\n",
    "print(f\"Coeficiente de  Determinação (R2): {r2}\")"
   ],
   "outputs": []
  },
  {
   "cell_type": "code",
   "execution_count": 47,
   "metadata": {},
   "source": [
    "# Mostrando as previsões ao lado dos valores reais\n",
    "resultados_df = pd.DataFrame({'Real': y_test, 'Previsto': y_pred})\n",
    "print(resultados_df)"
   ],
   "outputs": []
  },
  {
   "cell_type": "code",
   "execution_count": 48,
   "metadata": {},
   "source": [
    "# Plotando o gráfico comparativo\n",
    "plt.figure(figsize=(10, 6))\n",
    "plt.plot(y_test.values, label='Valor Real', marker='o')\n",
    "plt.plot(y_pred, label='Valor Previsto', marker='x')\n",
    "plt.title('Comparação entre Valor Real e Valor Previsto')\n",
    "plt.xlabel('Índice do Teste')\n",
    "plt.ylabel('Valor')\n",
    "plt.legend()\n",
    "plt.grid(True)\n",
    "plt.show()"
   ],
   "outputs": []
  },
  {
   "cell_type": "code",
   "execution_count": 49,
   "metadata": {},
   "source": [
    "# Plotando o gráfico comparativo\n",
    "plt.scatter(y_test, y_pred)\n",
    "plt.plot([min(y_test), max(y_test)], [min(y_test), max(y_test)], color='red', linewidth=2)\n",
    "plt.xlabel('Valores reais')\n",
    "plt.ylabel('Previstos')\n",
    "plt.title(\"Previsoes vs Valores Reais\")\n",
    "plt.show()"
   ],
   "outputs": []
  }
 ],
 "metadata": {
  "kernelspec": {
   "display_name": "Python 3",
   "language": "python",
   "name": "python3"
  },
  "language_info": {
   "codemirror_mode": {
    "name": "ipython",
    "version": 3
   },
   "file_extension": ".py",
   "mimetype": "text/x-python",
   "name": "python",
   "nbconvert_exporter": "python",
   "pygments_lexer": "ipython3",
   "version": "3.12.4"
  }
 },
 "nbformat": 4,
 "nbformat_minor": 2
}
